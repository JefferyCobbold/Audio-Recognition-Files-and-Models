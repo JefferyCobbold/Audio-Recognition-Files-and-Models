{
 "cells": [
  {
   "cell_type": "code",
   "execution_count": 2,
   "metadata": {},
   "outputs": [
    {
     "name": "stdout",
     "output_type": "stream",
     "text": [
      "(40, 44)\n"
     ]
    }
   ],
   "source": [
    "import librosa\n",
    "import numpy as np\n",
    "\n",
    "def extract_mfcc(file_path, n_mfcc=40, max_pad_len=44):\n",
    "    # Load the audio file\n",
    "    y, sr = librosa.load(file_path, duration=3)  # Load 3 seconds of audio\n",
    "    \n",
    "    # Extract MFCC features\n",
    "    mfcc = librosa.feature.mfcc(y=y, sr=sr, n_mfcc=n_mfcc)\n",
    "    \n",
    "    # Pad or truncate to ensure consistent size\n",
    "    if mfcc.shape[1] < max_pad_len:\n",
    "        pad_width = max_pad_len - mfcc.shape[1]\n",
    "        mfcc = np.pad(mfcc, ((0, 0), (0, pad_width)), mode='constant')\n",
    "    else:\n",
    "        mfcc = mfcc[:, :max_pad_len]\n",
    "    \n",
    "    return mfcc\n",
    "\n",
    "# Example\n",
    "file_path = r\"D:\\model\\down\\2.wav\"\n",
    "mfcc_features = extract_mfcc(file_path)\n",
    "print(mfcc_features.shape)  # Should output (40, 44)\n"
   ]
  },
  {
   "cell_type": "code",
   "execution_count": 3,
   "metadata": {},
   "outputs": [],
   "source": [
    "import os\n",
    "from sklearn.model_selection import train_test_split\n",
    "from tensorflow.keras.utils import to_categorical\n",
    "\n",
    "# Assuming you have audio data organized by class folders\n",
    "data_dir = r\"D:\\model\"\n",
    "labels = []\n",
    "features = []\n",
    "\n",
    "# Load each file, extract MFCC, and collect its label\n",
    "for label, class_dir in enumerate(os.listdir(data_dir)):\n",
    "    class_path = os.path.join(data_dir, class_dir)\n",
    "    for file in os.listdir(class_path):\n",
    "        file_path = os.path.join(class_path, file)\n",
    "        mfcc = extract_mfcc(file_path)\n",
    "        features.append(mfcc)\n",
    "        labels.append(label)\n",
    "\n",
    "# Convert to numpy arrays\n",
    "features = np.array(features)\n",
    "labels = to_categorical(np.array(labels))\n",
    "\n",
    "# Reshape features for CNN input\n",
    "features = features[..., np.newaxis]  # Add channel dimension (40, 44, 1)\n",
    "\n"
   ]
  },
  {
   "cell_type": "code",
   "execution_count": 5,
   "metadata": {},
   "outputs": [],
   "source": [
    "# Split dataset\n",
    "X_train, X_test, y_train, y_test = train_test_split(\n",
    "    features, labels, test_size=0.2, random_state=42\n",
    ")\n"
   ]
  },
  {
   "cell_type": "code",
   "execution_count": 6,
   "metadata": {},
   "outputs": [
    {
     "name": "stdout",
     "output_type": "stream",
     "text": [
      "Model: \"sequential\"\n",
      "_________________________________________________________________\n",
      " Layer (type)                Output Shape              Param #   \n",
      "=================================================================\n",
      " conv2d (Conv2D)             (None, 40, 44, 32)        320       \n",
      "                                                                 \n",
      " max_pooling2d (MaxPooling2D  (None, 20, 22, 32)       0         \n",
      " )                                                               \n",
      "                                                                 \n",
      " conv2d_1 (Conv2D)           (None, 20, 22, 64)        18496     \n",
      "                                                                 \n",
      " max_pooling2d_1 (MaxPooling  (None, 10, 11, 64)       0         \n",
      " 2D)                                                             \n",
      "                                                                 \n",
      " conv2d_2 (Conv2D)           (None, 10, 11, 128)       73856     \n",
      "                                                                 \n",
      " max_pooling2d_2 (MaxPooling  (None, 5, 5, 128)        0         \n",
      " 2D)                                                             \n",
      "                                                                 \n",
      " flatten (Flatten)           (None, 3200)              0         \n",
      "                                                                 \n",
      " dense (Dense)               (None, 128)               409728    \n",
      "                                                                 \n",
      " dropout (Dropout)           (None, 128)               0         \n",
      "                                                                 \n",
      " dense_1 (Dense)             (None, 6)                 774       \n",
      "                                                                 \n",
      "=================================================================\n",
      "Total params: 503,174\n",
      "Trainable params: 503,174\n",
      "Non-trainable params: 0\n",
      "_________________________________________________________________\n"
     ]
    }
   ],
   "source": [
    "import tensorflow as tf\n",
    "from tensorflow.keras import layers, models\n",
    "\n",
    "def create_audio_model(input_shape, num_classes):\n",
    "    model = models.Sequential([\n",
    "        layers.Input(shape=input_shape),\n",
    "        layers.Conv2D(32, (3, 3), activation='relu', padding='same'),\n",
    "        layers.MaxPooling2D((2, 2)),\n",
    "        layers.Conv2D(64, (3, 3), activation='relu', padding='same'),\n",
    "        layers.MaxPooling2D((2, 2)),\n",
    "        layers.Conv2D(128, (3, 3), activation='relu', padding='same'),\n",
    "        layers.MaxPooling2D((2, 2)),\n",
    "        layers.Flatten(),\n",
    "        layers.Dense(128, activation='relu'),\n",
    "        layers.Dropout(0.3),\n",
    "        layers.Dense(num_classes, activation='softmax')\n",
    "    ])\n",
    "\n",
    "    model.compile(optimizer='adam',\n",
    "                  loss='categorical_crossentropy',\n",
    "                  metrics=['accuracy'])\n",
    "    \n",
    "    return model\n",
    "\n",
    "# Example usage\n",
    "input_shape = (40, 44, 1)  # 40 MFCC coefficients, 44 time steps\n",
    "num_classes = 6  # Adjust this to match your classes\n",
    "model = create_audio_model(input_shape, num_classes)\n",
    "model.summary()\n"
   ]
  },
  {
   "cell_type": "code",
   "execution_count": 7,
   "metadata": {},
   "outputs": [
    {
     "name": "stdout",
     "output_type": "stream",
     "text": [
      "Physical devices cannot be modified after being initialized\n"
     ]
    }
   ],
   "source": [
    "# Ensure TensorFlow runs on GPU\n",
    "gpus = tf.config.experimental.list_physical_devices('GPU')\n",
    "if gpus:\n",
    "    try:\n",
    "        # Set GPU memory growth to avoid crashes\n",
    "        for gpu in gpus:\n",
    "            tf.config.experimental.set_memory_growth(gpu, True)\n",
    "        tf.config.set_visible_devices(gpus[0], 'GPU')\n",
    "        print(\"Running on GPU:\", gpus[0])\n",
    "    except RuntimeError as e:\n",
    "        print(e)\n"
   ]
  },
  {
   "cell_type": "code",
   "execution_count": 8,
   "metadata": {},
   "outputs": [],
   "source": [
    "model.compile(\n",
    "    optimizer=tf.keras.optimizers.Adam(learning_rate=0.001),\n",
    "    loss='categorical_crossentropy',\n",
    "    metrics=['accuracy']\n",
    ")\n"
   ]
  },
  {
   "cell_type": "code",
   "execution_count": null,
   "metadata": {},
   "outputs": [],
   "source": []
  },
  {
   "cell_type": "code",
   "execution_count": 10,
   "metadata": {},
   "outputs": [
    {
     "data": {
      "image/png": "[encoded data removed]",
      "text/plain": [
       "<Figure size 1200x400 with 2 Axes>"
      ]
     },
     "metadata": {},
     "output_type": "display_data"
    },
    {
     "name": "stdout",
     "output_type": "stream",
     "text": [
      "241/241 [==============================] - 2s 9ms/step - loss: 0.0079 - accuracy: 0.9988 - val_loss: 0.0158 - val_accuracy: 0.9984\n"
     ]
    }
   ],
   "source": [
    "import matplotlib.pyplot as plt\n",
    "from tensorflow.keras.callbacks import Callback\n",
    "from IPython.display import clear_output\n",
    "import datetime\n",
    "from tensorflow.keras.callbacks import Callback\n",
    "from IPython.display import clear_output\n",
    "import datetime\n",
    "class LivePlotCallback(Callback):\n",
    "    def on_train_begin(self, logs=None):\n",
    "        self.history = {'accuracy': [], 'val_accuracy': [], 'loss': [], 'val_loss': []}\n",
    "        plt.ion()  # Turn on interactive mode\n",
    "\n",
    "    def on_epoch_end(self, epoch, logs=None):\n",
    "        # Update history\n",
    "        self.history['accuracy'].append(logs['accuracy'])\n",
    "        self.history['val_accuracy'].append(logs['val_accuracy'])\n",
    "        self.history['loss'].append(logs['loss'])\n",
    "        self.history['val_loss'].append(logs['val_loss'])\n",
    "        \n",
    "        # Clear output and redraw the updated plot\n",
    "        clear_output(wait=True)\n",
    "        plt.figure(figsize=(12, 4))\n",
    "\n",
    "        # Plot accuracy\n",
    "        plt.subplot(1, 2, 1)\n",
    "        plt.plot(self.history['accuracy'], label='Training Accuracy', color='blue')\n",
    "        plt.plot(self.history['val_accuracy'], label='Validation Accuracy', color='orange')\n",
    "        plt.title('Accuracy')\n",
    "        plt.xlabel('Epochs')\n",
    "        plt.ylabel('Accuracy')\n",
    "        plt.legend()\n",
    "\n",
    "        # Plot loss\n",
    "        plt.subplot(1, 2, 2)\n",
    "        plt.plot(self.history['loss'], label='Training Loss', color='blue')\n",
    "        plt.plot(self.history['val_loss'], label='Validation Loss', color='orange')\n",
    "        plt.title('Loss')\n",
    "        plt.xlabel('Epochs')\n",
    "        plt.ylabel('Loss')\n",
    "        plt.legend()\n",
    "\n",
    "        plt.tight_layout()\n",
    "        plt.show()\n",
    "\n",
    "# Add this callback to your model training\n",
    "live_plot = LivePlotCallback()\n",
    "\n",
    "# Define TensorBoard callback\n",
    "log_dir = \"logs/fit/\" + datetime.datetime.now().strftime(\"%Y%m%d-%H%M%S\")\n",
    "tensorboard_callback = tf.keras.callbacks.TensorBoard(log_dir=log_dir, histogram_freq=1)\n",
    "\n",
    "history = model.fit(\n",
    "    X_train, y_train,\n",
    "    epochs=100,\n",
    "    batch_size=32,\n",
    "    validation_data=(X_test, y_test),\n",
    "    callbacks=[live_plot, tensorboard_callback]  # TensorBoard still works alongside!\n",
    ")\n",
    "\n"
   ]
  },
  {
   "cell_type": "code",
   "execution_count": 11,
   "metadata": {},
   "outputs": [
    {
     "name": "stdout",
     "output_type": "stream",
     "text": [
      "61/61 [==============================] - 0s 6ms/step - loss: 0.0158 - accuracy: 0.9984\n",
      "Test accuracy: 99.843913%\n",
      "1/1 [==============================] - 0s 171ms/step\n",
      "Predicted class: 4\n"
     ]
    }
   ],
   "source": [
    "test_loss, test_acc = model.evaluate(X_test, y_test)\n",
    "print(f\"Test accuracy: {test_acc * 100:.6f}%\")\n",
    "\n",
    "path = r\"D:\\model\\right\\27.wav\"\n",
    "# Predicting a new file\n",
    "new_file = extract_mfcc(path)\n",
    "new_file = np.expand_dims(new_file, axis=(0, -1))  # Reshape for model input\n",
    "prediction = model.predict(new_file)\n",
    "print(\"Predicted class:\", np.argmax(prediction))\n"
   ]
  },
  {
   "cell_type": "code",
   "execution_count": 12,
   "metadata": {},
   "outputs": [],
   "source": [
    "model.save('audio_classification_model.h5')\n"
   ]
  },
  {
   "cell_type": "code",
   "execution_count": 13,
   "metadata": {},
   "outputs": [
    {
     "name": "stderr",
     "output_type": "stream",
     "text": [
      "WARNING:absl:Found untraced functions such as _jit_compiled_convolution_op, _jit_compiled_convolution_op, _jit_compiled_convolution_op while saving (showing 3 of 3). These functions will not be directly callable after loading.\n"
     ]
    },
    {
     "name": "stdout",
     "output_type": "stream",
     "text": [
      "INFO:tensorflow:Assets written to: C:\\Users\\HP\\AppData\\Local\\Temp\\tmpgm1i8nei\\assets\n"
     ]
    },
    {
     "name": "stderr",
     "output_type": "stream",
     "text": [
      "INFO:tensorflow:Assets written to: C:\\Users\\HP\\AppData\\Local\\Temp\\tmpgm1i8nei\\assets\n",
      "c:\\Users\\HP\\miniconda3\\envs\\py310\\lib\\site-packages\\tensorflow\\lite\\python\\convert.py:766: UserWarning: Statistics for quantized inputs were expected, but not specified; continuing anyway.\n",
      "  warnings.warn(\"Statistics for quantized inputs were expected, but not \"\n"
     ]
    },
    {
     "name": "stdout",
     "output_type": "stream",
     "text": [
      "✅ Model converted and quantized!\n"
     ]
    }
   ],
   "source": [
    "import tensorflow as tf\n",
    "import numpy as np\n",
    "\n",
    "# Load the trained model\n",
    "model = tf.keras.models.load_model('audio_classification_model.h5')\n",
    "\n",
    "# Define a representative dataset function for proper quantization\n",
    "def representative_dataset():\n",
    "    for i in range(100):  # Use samples from your training data\n",
    "        yield [X_train[i:i+1].astype(np.float32)]\n",
    "\n",
    "# Convert model to TensorFlow Lite\n",
    "converter = tf.lite.TFLiteConverter.from_keras_model(model)\n",
    "\n",
    "# Set optimization to default (enables quantization)\n",
    "converter.optimizations = [tf.lite.Optimize.DEFAULT]\n",
    "\n",
    "# Provide representative dataset for int8 quantization\n",
    "converter.representative_dataset = representative_dataset\n",
    "\n",
    "# Force inputs/outputs to int8 for TensorFlow Lite Micro compatibility\n",
    "converter.target_spec.supported_ops = [tf.lite.OpsSet.TFLITE_BUILTINS_INT8]\n",
    "converter.inference_input_type = tf.int8\n",
    "converter.inference_output_type = tf.int8\n",
    "\n",
    "# Convert and save the model\n",
    "tflite_model = converter.convert()\n",
    "\n",
    "with open('audio_classification_model_int8.tflite', 'wb') as f:\n",
    "    f.write(tflite_model)\n",
    "\n",
    "print(\"✅ Model converted and quantized!\")\n"
   ]
  },
  {
   "cell_type": "code",
   "execution_count": null,
   "metadata": {},
   "outputs": [],
   "source": []
  },
  {
   "cell_type": "code",
   "execution_count": null,
   "metadata": {},
   "outputs": [],
   "source": [
    "python -m xxd -i audio_classification_model_int8.tflite > audio_model.h\n"
   ]
  },
  {
   "cell_type": "code",
   "execution_count": null,
   "metadata": {},
   "outputs": [],
   "source": []
  },
  {
   "cell_type": "code",
   "execution_count": null,
   "metadata": {},
   "outputs": [],
   "source": []
  },
  {
   "cell_type": "code",
   "execution_count": null,
   "metadata": {},
   "outputs": [],
   "source": []
  }
 ],
 "metadata": {
  "kernelspec": {
   "display_name": "py310",
   "language": "python",
   "name": "python3"
  },
  "language_info": {
   "codemirror_mode": {
    "name": "ipython",
    "version": 3
   },
   "file_extension": ".py",
   "mimetype": "text/x-python",
   "name": "python",
   "nbconvert_exporter": "python",
   "pygments_lexer": "ipython3",
   "version": "3.10.16"
  }
 },
 "nbformat": 4,
 "nbformat_minor": 2
}
